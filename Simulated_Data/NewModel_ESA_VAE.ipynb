{
  "nbformat": 4,
  "nbformat_minor": 0,
  "metadata": {
    "colab": {
      "provenance": []
    },
    "kernelspec": {
      "name": "python3",
      "display_name": "Python 3"
    },
    "language_info": {
      "name": "python"
    }
  },
  "cells": [
    {
      "cell_type": "code",
      "execution_count": null,
      "metadata": {
        "id": "oryPCkSxRBwd"
      },
      "outputs": [],
      "source": [
        "import pandas as pd\n",
        "import numpy as np\n",
        "from sklearn.preprocessing import StandardScaler\n",
        "from sklearn.model_selection import train_test_split\n",
        "import tensorflow as tf\n",
        "from tensorflow.keras import layers, models, backend as K\n",
        "from tensorflow.keras.layers import Layer # Import the Layer class\n",
        "from sklearn.metrics import mean_squared_error, r2_score\n",
        "import matplotlib.pyplot as plt\n",
        "from tensorflow.keras.callbacks import EarlyStopping\n",
        "import seaborn as sns\n",
        "import matplotlib.pyplot as plt\n",
        "from sklearn.manifold import TSNE\n",
        "from sklearn.decomposition import PCA"
      ]
    },
    {
      "cell_type": "code",
      "source": [
        "\n",
        "\n",
        "def generate_synthetic_data(n_samples=100, n_genes=5, n_methylation=5, treatment_effect=0.3, random_seed=42):\n",
        "    \"\"\"\n",
        "    Generate a synthetic dataset for training a VAE, with gene expression, methylation, and treatment status.\n",
        "\n",
        "    Parameters:\n",
        "    - n_samples: Total number of samples (half untreated, half treated)\n",
        "    - n_genes: Number of gene expression features\n",
        "    - n_methylation: Number of methylation features\n",
        "    - treatment_effect: Magnitude of the treatment effect on gene expression and methylation\n",
        "    - random_seed: Seed for reproducibility\n",
        "\n",
        "    Returns:\n",
        "    - df: A DataFrame containing gene expression, methylation, and treatment status columns\n",
        "    \"\"\"\n",
        "    np.random.seed(random_seed)\n",
        "\n",
        "    # Number of untreated and treated samples (split equally)\n",
        "    n_untreated = n_samples // 2\n",
        "    n_treated = n_samples - n_untreated\n",
        "\n",
        "    # Generate synthetic gene expression and methylation data\n",
        "    gene_expression_untreated = np.random.normal(loc=0.5, scale=0.1, size=(n_untreated, n_genes))\n",
        "    gene_expression_treated = np.random.normal(loc=0.5 + treatment_effect, scale=0.1, size=(n_treated, n_genes))\n",
        "\n",
        "    methylation_untreated = np.random.normal(loc=0.5, scale=0.1, size=(n_untreated, n_methylation))\n",
        "    methylation_treated = np.random.normal(loc=0.5 - treatment_effect, scale=0.1, size=(n_treated, n_methylation))\n",
        "\n",
        "    # Stack untreated and treated data\n",
        "    gene_expression_data = np.vstack([gene_expression_untreated, gene_expression_treated])\n",
        "    methylation_data = np.vstack([methylation_untreated, methylation_treated])\n",
        "\n",
        "    # Generate binary treatment status (0 for untreated, 1 for treated)\n",
        "    treatment_status = np.array([0] * n_untreated + [1] * n_treated)\n",
        "\n",
        "    # Combine gene expression, methylation, and treatment status into a single DataFrame\n",
        "    df = pd.DataFrame(np.hstack([gene_expression_data, methylation_data]),\n",
        "                      columns=[f'GeneExp_{i+1}' for i in range(n_genes)] +\n",
        "                              [f'Meth_{i+1}' for i in range(n_methylation)])\n",
        "\n",
        "    df['TreatmentStatus'] = treatment_status\n",
        "\n",
        "    return df\n",
        "\n"
      ],
      "metadata": {
        "id": "6YxeU07CUEQS"
      },
      "execution_count": null,
      "outputs": []
    },
    {
      "cell_type": "code",
      "source": [
        "# Example usage:\n",
        "synthetic_df = generate_synthetic_data(n_samples=200, n_genes=1000, n_methylation=1000)\n",
        "(synthetic_df.tail())\n"
      ],
      "metadata": {
        "colab": {
          "base_uri": "https://localhost:8080/",
          "height": 253
        },
        "id": "xkM5WRvPUJUt",
        "outputId": "70c33abf-e1bd-4a37-9260-4febcb3ce87e"
      },
      "execution_count": null,
      "outputs": [
        {
          "output_type": "execute_result",
          "data": {
            "text/plain": [
              "     GeneExp_1  GeneExp_2  GeneExp_3  GeneExp_4  GeneExp_5  GeneExp_6  \\\n",
              "195   0.782564   0.728667   0.801878   1.009186   0.812814   0.714539   \n",
              "196   1.022679   0.685382   0.870131   0.880805   0.878301   1.041902   \n",
              "197   0.684092   1.021685   0.563645   0.949101   0.644966   0.991512   \n",
              "198   0.729946   0.819170   0.810057   0.876758   0.710643   0.704214   \n",
              "199   0.804107   0.827473   0.756085   0.681671   0.927513   0.823416   \n",
              "\n",
              "     GeneExp_7  GeneExp_8  GeneExp_9  GeneExp_10  ...  Meth_992  Meth_993  \\\n",
              "195   0.650938   0.743077   0.786303    0.651362  ...  0.098245  0.058221   \n",
              "196   0.815074   0.805667   0.870737    1.081348  ...  0.365257  0.345540   \n",
              "197   0.897312   0.753820   0.764103    0.815090  ...  0.217092  0.331671   \n",
              "198   0.982943   0.858543   0.869065    0.698399  ...  0.308215  0.141478   \n",
              "199   0.830918   0.846181   0.800689    0.636175  ...  0.223081  0.217995   \n",
              "\n",
              "     Meth_994  Meth_995  Meth_996  Meth_997  Meth_998  Meth_999  Meth_1000  \\\n",
              "195  0.215507  0.080290  0.211916  0.089784  0.192669  0.075979   0.305248   \n",
              "196  0.195069  0.248080  0.251647  0.196322  0.036220  0.226013   0.328215   \n",
              "197  0.430136  0.070640  0.146840  0.053558  0.187206  0.115891   0.199451   \n",
              "198  0.324049  0.100836  0.200856  0.260670  0.064123  0.028782   0.145161   \n",
              "199  0.304188  0.148185  0.144554 -0.031638  0.283156  0.246253   0.186264   \n",
              "\n",
              "     TreatmentStatus  \n",
              "195                1  \n",
              "196                1  \n",
              "197                1  \n",
              "198                1  \n",
              "199                1  \n",
              "\n",
              "[5 rows x 2001 columns]"
            ],
            "text/html": [
              "\n",
              "  <div id=\"df-2ba4fc4d-c2b9-4555-8459-1226d0e0b676\" class=\"colab-df-container\">\n",
              "    <div>\n",
              "<style scoped>\n",
              "    .dataframe tbody tr th:only-of-type {\n",
              "        vertical-align: middle;\n",
              "    }\n",
              "\n",
              "    .dataframe tbody tr th {\n",
              "        vertical-align: top;\n",
              "    }\n",
              "\n",
              "    .dataframe thead th {\n",
              "        text-align: right;\n",
              "    }\n",
              "</style>\n",
              "<table border=\"1\" class=\"dataframe\">\n",
              "  <thead>\n",
              "    <tr style=\"text-align: right;\">\n",
              "      <th></th>\n",
              "      <th>GeneExp_1</th>\n",
              "      <th>GeneExp_2</th>\n",
              "      <th>GeneExp_3</th>\n",
              "      <th>GeneExp_4</th>\n",
              "      <th>GeneExp_5</th>\n",
              "      <th>GeneExp_6</th>\n",
              "      <th>GeneExp_7</th>\n",
              "      <th>GeneExp_8</th>\n",
              "      <th>GeneExp_9</th>\n",
              "      <th>GeneExp_10</th>\n",
              "      <th>...</th>\n",
              "      <th>Meth_992</th>\n",
              "      <th>Meth_993</th>\n",
              "      <th>Meth_994</th>\n",
              "      <th>Meth_995</th>\n",
              "      <th>Meth_996</th>\n",
              "      <th>Meth_997</th>\n",
              "      <th>Meth_998</th>\n",
              "      <th>Meth_999</th>\n",
              "      <th>Meth_1000</th>\n",
              "      <th>TreatmentStatus</th>\n",
              "    </tr>\n",
              "  </thead>\n",
              "  <tbody>\n",
              "    <tr>\n",
              "      <th>195</th>\n",
              "      <td>0.782564</td>\n",
              "      <td>0.728667</td>\n",
              "      <td>0.801878</td>\n",
              "      <td>1.009186</td>\n",
              "      <td>0.812814</td>\n",
              "      <td>0.714539</td>\n",
              "      <td>0.650938</td>\n",
              "      <td>0.743077</td>\n",
              "      <td>0.786303</td>\n",
              "      <td>0.651362</td>\n",
              "      <td>...</td>\n",
              "      <td>0.098245</td>\n",
              "      <td>0.058221</td>\n",
              "      <td>0.215507</td>\n",
              "      <td>0.080290</td>\n",
              "      <td>0.211916</td>\n",
              "      <td>0.089784</td>\n",
              "      <td>0.192669</td>\n",
              "      <td>0.075979</td>\n",
              "      <td>0.305248</td>\n",
              "      <td>1</td>\n",
              "    </tr>\n",
              "    <tr>\n",
              "      <th>196</th>\n",
              "      <td>1.022679</td>\n",
              "      <td>0.685382</td>\n",
              "      <td>0.870131</td>\n",
              "      <td>0.880805</td>\n",
              "      <td>0.878301</td>\n",
              "      <td>1.041902</td>\n",
              "      <td>0.815074</td>\n",
              "      <td>0.805667</td>\n",
              "      <td>0.870737</td>\n",
              "      <td>1.081348</td>\n",
              "      <td>...</td>\n",
              "      <td>0.365257</td>\n",
              "      <td>0.345540</td>\n",
              "      <td>0.195069</td>\n",
              "      <td>0.248080</td>\n",
              "      <td>0.251647</td>\n",
              "      <td>0.196322</td>\n",
              "      <td>0.036220</td>\n",
              "      <td>0.226013</td>\n",
              "      <td>0.328215</td>\n",
              "      <td>1</td>\n",
              "    </tr>\n",
              "    <tr>\n",
              "      <th>197</th>\n",
              "      <td>0.684092</td>\n",
              "      <td>1.021685</td>\n",
              "      <td>0.563645</td>\n",
              "      <td>0.949101</td>\n",
              "      <td>0.644966</td>\n",
              "      <td>0.991512</td>\n",
              "      <td>0.897312</td>\n",
              "      <td>0.753820</td>\n",
              "      <td>0.764103</td>\n",
              "      <td>0.815090</td>\n",
              "      <td>...</td>\n",
              "      <td>0.217092</td>\n",
              "      <td>0.331671</td>\n",
              "      <td>0.430136</td>\n",
              "      <td>0.070640</td>\n",
              "      <td>0.146840</td>\n",
              "      <td>0.053558</td>\n",
              "      <td>0.187206</td>\n",
              "      <td>0.115891</td>\n",
              "      <td>0.199451</td>\n",
              "      <td>1</td>\n",
              "    </tr>\n",
              "    <tr>\n",
              "      <th>198</th>\n",
              "      <td>0.729946</td>\n",
              "      <td>0.819170</td>\n",
              "      <td>0.810057</td>\n",
              "      <td>0.876758</td>\n",
              "      <td>0.710643</td>\n",
              "      <td>0.704214</td>\n",
              "      <td>0.982943</td>\n",
              "      <td>0.858543</td>\n",
              "      <td>0.869065</td>\n",
              "      <td>0.698399</td>\n",
              "      <td>...</td>\n",
              "      <td>0.308215</td>\n",
              "      <td>0.141478</td>\n",
              "      <td>0.324049</td>\n",
              "      <td>0.100836</td>\n",
              "      <td>0.200856</td>\n",
              "      <td>0.260670</td>\n",
              "      <td>0.064123</td>\n",
              "      <td>0.028782</td>\n",
              "      <td>0.145161</td>\n",
              "      <td>1</td>\n",
              "    </tr>\n",
              "    <tr>\n",
              "      <th>199</th>\n",
              "      <td>0.804107</td>\n",
              "      <td>0.827473</td>\n",
              "      <td>0.756085</td>\n",
              "      <td>0.681671</td>\n",
              "      <td>0.927513</td>\n",
              "      <td>0.823416</td>\n",
              "      <td>0.830918</td>\n",
              "      <td>0.846181</td>\n",
              "      <td>0.800689</td>\n",
              "      <td>0.636175</td>\n",
              "      <td>...</td>\n",
              "      <td>0.223081</td>\n",
              "      <td>0.217995</td>\n",
              "      <td>0.304188</td>\n",
              "      <td>0.148185</td>\n",
              "      <td>0.144554</td>\n",
              "      <td>-0.031638</td>\n",
              "      <td>0.283156</td>\n",
              "      <td>0.246253</td>\n",
              "      <td>0.186264</td>\n",
              "      <td>1</td>\n",
              "    </tr>\n",
              "  </tbody>\n",
              "</table>\n",
              "<p>5 rows × 2001 columns</p>\n",
              "</div>\n",
              "    <div class=\"colab-df-buttons\">\n",
              "\n",
              "  <div class=\"colab-df-container\">\n",
              "    <button class=\"colab-df-convert\" onclick=\"convertToInteractive('df-2ba4fc4d-c2b9-4555-8459-1226d0e0b676')\"\n",
              "            title=\"Convert this dataframe to an interactive table.\"\n",
              "            style=\"display:none;\">\n",
              "\n",
              "  <svg xmlns=\"http://www.w3.org/2000/svg\" height=\"24px\" viewBox=\"0 -960 960 960\">\n",
              "    <path d=\"M120-120v-720h720v720H120Zm60-500h600v-160H180v160Zm220 220h160v-160H400v160Zm0 220h160v-160H400v160ZM180-400h160v-160H180v160Zm440 0h160v-160H620v160ZM180-180h160v-160H180v160Zm440 0h160v-160H620v160Z\"/>\n",
              "  </svg>\n",
              "    </button>\n",
              "\n",
              "  <style>\n",
              "    .colab-df-container {\n",
              "      display:flex;\n",
              "      gap: 12px;\n",
              "    }\n",
              "\n",
              "    .colab-df-convert {\n",
              "      background-color: #E8F0FE;\n",
              "      border: none;\n",
              "      border-radius: 50%;\n",
              "      cursor: pointer;\n",
              "      display: none;\n",
              "      fill: #1967D2;\n",
              "      height: 32px;\n",
              "      padding: 0 0 0 0;\n",
              "      width: 32px;\n",
              "    }\n",
              "\n",
              "    .colab-df-convert:hover {\n",
              "      background-color: #E2EBFA;\n",
              "      box-shadow: 0px 1px 2px rgba(60, 64, 67, 0.3), 0px 1px 3px 1px rgba(60, 64, 67, 0.15);\n",
              "      fill: #174EA6;\n",
              "    }\n",
              "\n",
              "    .colab-df-buttons div {\n",
              "      margin-bottom: 4px;\n",
              "    }\n",
              "\n",
              "    [theme=dark] .colab-df-convert {\n",
              "      background-color: #3B4455;\n",
              "      fill: #D2E3FC;\n",
              "    }\n",
              "\n",
              "    [theme=dark] .colab-df-convert:hover {\n",
              "      background-color: #434B5C;\n",
              "      box-shadow: 0px 1px 3px 1px rgba(0, 0, 0, 0.15);\n",
              "      filter: drop-shadow(0px 1px 2px rgba(0, 0, 0, 0.3));\n",
              "      fill: #FFFFFF;\n",
              "    }\n",
              "  </style>\n",
              "\n",
              "    <script>\n",
              "      const buttonEl =\n",
              "        document.querySelector('#df-2ba4fc4d-c2b9-4555-8459-1226d0e0b676 button.colab-df-convert');\n",
              "      buttonEl.style.display =\n",
              "        google.colab.kernel.accessAllowed ? 'block' : 'none';\n",
              "\n",
              "      async function convertToInteractive(key) {\n",
              "        const element = document.querySelector('#df-2ba4fc4d-c2b9-4555-8459-1226d0e0b676');\n",
              "        const dataTable =\n",
              "          await google.colab.kernel.invokeFunction('convertToInteractive',\n",
              "                                                    [key], {});\n",
              "        if (!dataTable) return;\n",
              "\n",
              "        const docLinkHtml = 'Like what you see? Visit the ' +\n",
              "          '<a target=\"_blank\" href=https://colab.research.google.com/notebooks/data_table.ipynb>data table notebook</a>'\n",
              "          + ' to learn more about interactive tables.';\n",
              "        element.innerHTML = '';\n",
              "        dataTable['output_type'] = 'display_data';\n",
              "        await google.colab.output.renderOutput(dataTable, element);\n",
              "        const docLink = document.createElement('div');\n",
              "        docLink.innerHTML = docLinkHtml;\n",
              "        element.appendChild(docLink);\n",
              "      }\n",
              "    </script>\n",
              "  </div>\n",
              "\n",
              "\n",
              "<div id=\"df-5b4d89ad-ab3e-4164-a316-58aaad81061e\">\n",
              "  <button class=\"colab-df-quickchart\" onclick=\"quickchart('df-5b4d89ad-ab3e-4164-a316-58aaad81061e')\"\n",
              "            title=\"Suggest charts\"\n",
              "            style=\"display:none;\">\n",
              "\n",
              "<svg xmlns=\"http://www.w3.org/2000/svg\" height=\"24px\"viewBox=\"0 0 24 24\"\n",
              "     width=\"24px\">\n",
              "    <g>\n",
              "        <path d=\"M19 3H5c-1.1 0-2 .9-2 2v14c0 1.1.9 2 2 2h14c1.1 0 2-.9 2-2V5c0-1.1-.9-2-2-2zM9 17H7v-7h2v7zm4 0h-2V7h2v10zm4 0h-2v-4h2v4z\"/>\n",
              "    </g>\n",
              "</svg>\n",
              "  </button>\n",
              "\n",
              "<style>\n",
              "  .colab-df-quickchart {\n",
              "      --bg-color: #E8F0FE;\n",
              "      --fill-color: #1967D2;\n",
              "      --hover-bg-color: #E2EBFA;\n",
              "      --hover-fill-color: #174EA6;\n",
              "      --disabled-fill-color: #AAA;\n",
              "      --disabled-bg-color: #DDD;\n",
              "  }\n",
              "\n",
              "  [theme=dark] .colab-df-quickchart {\n",
              "      --bg-color: #3B4455;\n",
              "      --fill-color: #D2E3FC;\n",
              "      --hover-bg-color: #434B5C;\n",
              "      --hover-fill-color: #FFFFFF;\n",
              "      --disabled-bg-color: #3B4455;\n",
              "      --disabled-fill-color: #666;\n",
              "  }\n",
              "\n",
              "  .colab-df-quickchart {\n",
              "    background-color: var(--bg-color);\n",
              "    border: none;\n",
              "    border-radius: 50%;\n",
              "    cursor: pointer;\n",
              "    display: none;\n",
              "    fill: var(--fill-color);\n",
              "    height: 32px;\n",
              "    padding: 0;\n",
              "    width: 32px;\n",
              "  }\n",
              "\n",
              "  .colab-df-quickchart:hover {\n",
              "    background-color: var(--hover-bg-color);\n",
              "    box-shadow: 0 1px 2px rgba(60, 64, 67, 0.3), 0 1px 3px 1px rgba(60, 64, 67, 0.15);\n",
              "    fill: var(--button-hover-fill-color);\n",
              "  }\n",
              "\n",
              "  .colab-df-quickchart-complete:disabled,\n",
              "  .colab-df-quickchart-complete:disabled:hover {\n",
              "    background-color: var(--disabled-bg-color);\n",
              "    fill: var(--disabled-fill-color);\n",
              "    box-shadow: none;\n",
              "  }\n",
              "\n",
              "  .colab-df-spinner {\n",
              "    border: 2px solid var(--fill-color);\n",
              "    border-color: transparent;\n",
              "    border-bottom-color: var(--fill-color);\n",
              "    animation:\n",
              "      spin 1s steps(1) infinite;\n",
              "  }\n",
              "\n",
              "  @keyframes spin {\n",
              "    0% {\n",
              "      border-color: transparent;\n",
              "      border-bottom-color: var(--fill-color);\n",
              "      border-left-color: var(--fill-color);\n",
              "    }\n",
              "    20% {\n",
              "      border-color: transparent;\n",
              "      border-left-color: var(--fill-color);\n",
              "      border-top-color: var(--fill-color);\n",
              "    }\n",
              "    30% {\n",
              "      border-color: transparent;\n",
              "      border-left-color: var(--fill-color);\n",
              "      border-top-color: var(--fill-color);\n",
              "      border-right-color: var(--fill-color);\n",
              "    }\n",
              "    40% {\n",
              "      border-color: transparent;\n",
              "      border-right-color: var(--fill-color);\n",
              "      border-top-color: var(--fill-color);\n",
              "    }\n",
              "    60% {\n",
              "      border-color: transparent;\n",
              "      border-right-color: var(--fill-color);\n",
              "    }\n",
              "    80% {\n",
              "      border-color: transparent;\n",
              "      border-right-color: var(--fill-color);\n",
              "      border-bottom-color: var(--fill-color);\n",
              "    }\n",
              "    90% {\n",
              "      border-color: transparent;\n",
              "      border-bottom-color: var(--fill-color);\n",
              "    }\n",
              "  }\n",
              "</style>\n",
              "\n",
              "  <script>\n",
              "    async function quickchart(key) {\n",
              "      const quickchartButtonEl =\n",
              "        document.querySelector('#' + key + ' button');\n",
              "      quickchartButtonEl.disabled = true;  // To prevent multiple clicks.\n",
              "      quickchartButtonEl.classList.add('colab-df-spinner');\n",
              "      try {\n",
              "        const charts = await google.colab.kernel.invokeFunction(\n",
              "            'suggestCharts', [key], {});\n",
              "      } catch (error) {\n",
              "        console.error('Error during call to suggestCharts:', error);\n",
              "      }\n",
              "      quickchartButtonEl.classList.remove('colab-df-spinner');\n",
              "      quickchartButtonEl.classList.add('colab-df-quickchart-complete');\n",
              "    }\n",
              "    (() => {\n",
              "      let quickchartButtonEl =\n",
              "        document.querySelector('#df-5b4d89ad-ab3e-4164-a316-58aaad81061e button');\n",
              "      quickchartButtonEl.style.display =\n",
              "        google.colab.kernel.accessAllowed ? 'block' : 'none';\n",
              "    })();\n",
              "  </script>\n",
              "</div>\n",
              "\n",
              "    </div>\n",
              "  </div>\n"
            ],
            "application/vnd.google.colaboratory.intrinsic+json": {
              "type": "dataframe"
            }
          },
          "metadata": {},
          "execution_count": 71
        }
      ]
    },
    {
      "cell_type": "code",
      "source": [
        "# Example DataFrame structure:\n",
        "# - Columns: ['GeneExpression1', 'GeneExpression2', ..., 'Methylation1', 'Methylation2', ..., 'TreatmentStatus']\n",
        "# - Rows: Samples, first half untreated, second half treated.\n",
        "\n",
        "# Step 1: Data Preprocessing and Normalization\n",
        "def preprocess_data(df):\n",
        "    # Separate the features (gene expression, methylation) and treatment status\n",
        "    treatment_status = df['TreatmentStatus'].values\n",
        "    features = df.drop('TreatmentStatus', axis=1).values\n",
        "\n",
        "    # Normalize the gene expression and methylation data\n",
        "    scaler = StandardScaler()\n",
        "    features_scaled = scaler.fit_transform(features)\n",
        "\n",
        "    # Return normalized features and treatment status\n",
        "    return features_scaled, treatment_status"
      ],
      "metadata": {
        "id": "YLqAePyEUQuF"
      },
      "execution_count": null,
      "outputs": []
    },
    {
      "cell_type": "code",
      "source": [
        "prepedData, treatmentStatus =  preprocess_data(synthetic_df)"
      ],
      "metadata": {
        "id": "xuHBV0cDUfiZ"
      },
      "execution_count": null,
      "outputs": []
    },
    {
      "cell_type": "code",
      "source": [
        "prepedData.shape"
      ],
      "metadata": {
        "colab": {
          "base_uri": "https://localhost:8080/"
        },
        "id": "_HiJcPhfUpQn",
        "outputId": "5689a228-a378-4419-9d20-fa60d1716d47"
      },
      "execution_count": null,
      "outputs": [
        {
          "output_type": "execute_result",
          "data": {
            "text/plain": [
              "(200, 2000)"
            ]
          },
          "metadata": {},
          "execution_count": 74
        }
      ]
    },
    {
      "cell_type": "code",
      "source": [
        "treatmentStatus.shape"
      ],
      "metadata": {
        "colab": {
          "base_uri": "https://localhost:8080/"
        },
        "id": "uPl5XRJjUtuS",
        "outputId": "722fbd5b-0766-47d0-be21-0d1c278b953c"
      },
      "execution_count": null,
      "outputs": [
        {
          "output_type": "execute_result",
          "data": {
            "text/plain": [
              "(200,)"
            ]
          },
          "metadata": {},
          "execution_count": 75
        }
      ]
    },
    {
      "cell_type": "code",
      "source": [
        "class VariationalAutoencoder(tf.keras.Model):\n",
        "    def __init__(self, input_dim, latent_dim):\n",
        "        super(VariationalAutoencoder, self).__init__()\n",
        "        self.latent_dim = latent_dim\n",
        "\n",
        "        # Encoder\n",
        "        self.encoder = models.Sequential([\n",
        "            layers.InputLayer(input_shape=(input_dim,)),\n",
        "            layers.Dense(128, activation='relu'),\n",
        "            layers.Dense(64, activation='relu'),\n",
        "            layers.Dense(32, activation='relu'),\n",
        "            layers.Dense(latent_dim + latent_dim)  # mean and logvar (latent_dim for each)\n",
        "        ])\n",
        "\n",
        "        # Decoder\n",
        "        self.decoder = models.Sequential([\n",
        "            layers.InputLayer(input_shape=(latent_dim,)),\n",
        "            layers.Dense(32, activation='relu'),\n",
        "            layers.Dense(64, activation='relu'),\n",
        "            layers.Dense(128, activation='relu'),\n",
        "            layers.Dense(input_dim, activation='sigmoid')  # Reconstruct the input\n",
        "        ])\n",
        "\n",
        "    def reparameterize(self, mean, logvar):\n",
        "        # Reparameterization trick: z = mean + eps * exp(logvar/2)\n",
        "        eps = tf.random.normal(shape=tf.shape(mean))\n",
        "        return mean + eps * tf.exp(logvar * 0.5)\n",
        "\n",
        "    def call(self, x):\n",
        "        # Encode input to mean and logvar\n",
        "        z_mean_logvar = self.encoder(x)\n",
        "        z_mean, z_logvar = tf.split(z_mean_logvar, num_or_size_splits=2, axis=1)\n",
        "\n",
        "        # Reparameterization trick\n",
        "        z = self.reparameterize(z_mean, z_logvar)\n",
        "\n",
        "        # Decode the latent variable back to input space\n",
        "        reconstructed = self.decoder(z)\n",
        "\n",
        "        return reconstructed, z_mean, z_logvar\n"
      ],
      "metadata": {
        "id": "07eb79pAU1y0"
      },
      "execution_count": null,
      "outputs": []
    },
    {
      "cell_type": "code",
      "source": [
        "# Step 3: Loss Functions\n",
        "def compute_loss(model, x):\n",
        "    # Forward pass\n",
        "    reconstructed, z_mean, z_logvar = model(x)\n",
        "\n",
        "    # Reconstruction loss (Mean Squared Error)\n",
        "    mse_loss = tf.reduce_mean(tf.keras.losses.mse(x, reconstructed))\n",
        "\n",
        "    # KL divergence loss (to make the learned distribution close to the standard normal distribution)\n",
        "    kl_loss = -0.5 * tf.reduce_mean(tf.reduce_sum(1 + z_logvar - tf.square(z_mean) - tf.exp(z_logvar), axis=1))\n",
        "\n",
        "    # Total VAE loss\n",
        "    return mse_loss + kl_loss\n",
        "\n",
        "# Step 4: Training Function\n",
        "def train_vae(model, dataset, epochs=50, batch_size=32):\n",
        "    optimizer = tf.keras.optimizers.Adam()\n",
        "    lossOut = []\n",
        "\n",
        "    for epoch in range(epochs):\n",
        "        for batch_data in dataset.batch(batch_size):\n",
        "            with tf.GradientTape() as tape:\n",
        "                loss = compute_loss(model, batch_data)\n",
        "\n",
        "\n",
        "            # Compute gradients and apply them\n",
        "            gradients = tape.gradient(loss, model.trainable_variables)\n",
        "            optimizer.apply_gradients(zip(gradients, model.trainable_variables))\n",
        "\n",
        "        print(f\"Epoch {epoch + 1}, Loss: {loss.numpy()}\")\n",
        "        lossOut.append(loss.numpy())\n",
        "\n",
        "    return lossOut\n"
      ],
      "metadata": {
        "id": "i0A7YfVZVLqH"
      },
      "execution_count": null,
      "outputs": []
    },
    {
      "cell_type": "code",
      "source": [
        "dataset = tf.data.Dataset.from_tensor_slices(prepedData)"
      ],
      "metadata": {
        "id": "Y1HC8t24VNfE"
      },
      "execution_count": null,
      "outputs": []
    },
    {
      "cell_type": "code",
      "source": [
        "# Step 6: Initialize and train the VAE\n",
        "latent_dim = 3\n",
        "vae = VariationalAutoencoder(input_dim=prepedData.shape[1], latent_dim=latent_dim)\n",
        "history = train_vae(vae, dataset, epochs=50, batch_size=32)\n"
      ],
      "metadata": {
        "colab": {
          "base_uri": "https://localhost:8080/"
        },
        "id": "RRcx3_QhVUB6",
        "outputId": "2dfb07d5-9fc2-4739-e222-963f4bbb33f4"
      },
      "execution_count": null,
      "outputs": [
        {
          "output_type": "stream",
          "name": "stdout",
          "text": [
            "Epoch 1, Loss: 14.190691947937012\n",
            "Epoch 2, Loss: 7.468587875366211\n",
            "Epoch 3, Loss: 6.878623008728027\n",
            "Epoch 4, Loss: 4.96292781829834\n",
            "Epoch 5, Loss: 5.937361717224121\n",
            "Epoch 6, Loss: 5.01999568939209\n",
            "Epoch 7, Loss: 2.4412574768066406\n",
            "Epoch 8, Loss: 1.3554385900497437\n",
            "Epoch 9, Loss: 1.2115089893341064\n",
            "Epoch 10, Loss: 1.0887856483459473\n",
            "Epoch 11, Loss: 1.0542845726013184\n",
            "Epoch 12, Loss: 1.038096308708191\n",
            "Epoch 13, Loss: 1.031994342803955\n",
            "Epoch 14, Loss: 1.013700246810913\n",
            "Epoch 15, Loss: 1.0367504358291626\n",
            "Epoch 16, Loss: 1.0609506368637085\n",
            "Epoch 17, Loss: 1.0396124124526978\n",
            "Epoch 18, Loss: 1.07828688621521\n",
            "Epoch 19, Loss: 1.0362004041671753\n",
            "Epoch 20, Loss: 1.047435998916626\n",
            "Epoch 21, Loss: 1.0293490886688232\n",
            "Epoch 22, Loss: 1.023669958114624\n",
            "Epoch 23, Loss: 0.9958958029747009\n",
            "Epoch 24, Loss: 0.9911382794380188\n",
            "Epoch 25, Loss: 1.0010299682617188\n",
            "Epoch 26, Loss: 1.042554259300232\n",
            "Epoch 27, Loss: 1.3302894830703735\n",
            "Epoch 28, Loss: 1.4765621423721313\n",
            "Epoch 29, Loss: 1.2950677871704102\n",
            "Epoch 30, Loss: 1.3189201354980469\n",
            "Epoch 31, Loss: 1.1203632354736328\n",
            "Epoch 32, Loss: 1.066882610321045\n",
            "Epoch 33, Loss: 1.010084629058838\n",
            "Epoch 34, Loss: 0.9860835671424866\n",
            "Epoch 35, Loss: 0.9819244742393494\n",
            "Epoch 36, Loss: 0.9820411801338196\n",
            "Epoch 37, Loss: 0.9827048778533936\n",
            "Epoch 38, Loss: 0.9718013405799866\n",
            "Epoch 39, Loss: 0.9702181816101074\n",
            "Epoch 40, Loss: 0.9910612106323242\n",
            "Epoch 41, Loss: 0.973268985748291\n",
            "Epoch 42, Loss: 0.970574140548706\n",
            "Epoch 43, Loss: 0.9664066433906555\n",
            "Epoch 44, Loss: 0.9746570587158203\n",
            "Epoch 45, Loss: 0.9792954325675964\n",
            "Epoch 46, Loss: 0.9663883447647095\n",
            "Epoch 47, Loss: 0.9742312431335449\n",
            "Epoch 48, Loss: 0.9511013627052307\n",
            "Epoch 49, Loss: 0.9627012014389038\n",
            "Epoch 50, Loss: 0.9787073731422424\n"
          ]
        }
      ]
    },
    {
      "cell_type": "code",
      "source": [
        "len(history)"
      ],
      "metadata": {
        "colab": {
          "base_uri": "https://localhost:8080/"
        },
        "id": "2bGQLROAfNel",
        "outputId": "0788a16b-6e19-495b-b525-8e8efdec1229"
      },
      "execution_count": null,
      "outputs": [
        {
          "output_type": "execute_result",
          "data": {
            "text/plain": [
              "50"
            ]
          },
          "metadata": {},
          "execution_count": 128
        }
      ]
    },
    {
      "cell_type": "code",
      "source": [
        "# prompt: geenrate a simple line plot for history\n",
        "\n",
        "import matplotlib.pyplot as plt\n",
        "\n",
        "plt.plot(history)\n",
        "plt.xlabel(\"Iterations\")\n",
        "plt.ylabel(\"Loss\")\n",
        "plt.title(\"Training Loss\")\n",
        "plt.show()\n"
      ],
      "metadata": {
        "colab": {
          "base_uri": "https://localhost:8080/",
          "height": 472
        },
        "id": "OJKYw1S-dzBw",
        "outputId": "943f9fb2-1f64-4707-dd98-91e583dd55cb"
      },
      "execution_count": null,
      "outputs": [
        {
          "output_type": "display_data",
          "data": {
            "text/plain": [
              "<Figure size 640x480 with 1 Axes>"
            ],
            "image/png": "[encoded data removed]"
          },
          "metadata": {}
        }
      ]
    },
    {
      "cell_type": "code",
      "source": [
        "vae.summary()"
      ],
      "metadata": {
        "colab": {
          "base_uri": "https://localhost:8080/",
          "height": 193
        },
        "id": "6p8jvsNjVZbE",
        "outputId": "b62a402b-7626-4110-f6d8-f5ba9254b0c1"
      },
      "execution_count": null,
      "outputs": [
        {
          "output_type": "display_data",
          "data": {
            "text/plain": [
              "\u001b[1mModel: \"variational_autoencoder_3\"\u001b[0m\n"
            ],
            "text/html": [
              "<pre style=\"white-space:pre;overflow-x:auto;line-height:normal;font-family:Menlo,'DejaVu Sans Mono',consolas,'Courier New',monospace\"><span style=\"font-weight: bold\">Model: \"variational_autoencoder_3\"</span>\n",
              "</pre>\n"
            ]
          },
          "metadata": {}
        },
        {
          "output_type": "display_data",
          "data": {
            "text/plain": [
              "┏━━━━━━━━━━━━━━━━━━━━━━━━━━━━━━━━━━━━━━┳━━━━━━━━━━━━━━━━━━━━━━━━━━━━━┳━━━━━━━━━━━━━━━━━┓\n",
              "┃\u001b[1m \u001b[0m\u001b[1mLayer (type)                        \u001b[0m\u001b[1m \u001b[0m┃\u001b[1m \u001b[0m\u001b[1mOutput Shape               \u001b[0m\u001b[1m \u001b[0m┃\u001b[1m \u001b[0m\u001b[1m        Param #\u001b[0m\u001b[1m \u001b[0m┃\n",
              "┡━━━━━━━━━━━━━━━━━━━━━━━━━━━━━━━━━━━━━━╇━━━━━━━━━━━━━━━━━━━━━━━━━━━━━╇━━━━━━━━━━━━━━━━━┩\n",
              "│ sequential_6 (\u001b[38;5;33mSequential\u001b[0m)            │ (\u001b[38;5;45mNone\u001b[0m, \u001b[38;5;34m6\u001b[0m)                   │         \u001b[38;5;34m266,662\u001b[0m │\n",
              "├──────────────────────────────────────┼─────────────────────────────┼─────────────────┤\n",
              "│ sequential_7 (\u001b[38;5;33mSequential\u001b[0m)            │ (\u001b[38;5;45mNone\u001b[0m, \u001b[38;5;34m2000\u001b[0m)                │         \u001b[38;5;34m268,560\u001b[0m │\n",
              "└──────────────────────────────────────┴─────────────────────────────┴─────────────────┘\n"
            ],
            "text/html": [
              "<pre style=\"white-space:pre;overflow-x:auto;line-height:normal;font-family:Menlo,'DejaVu Sans Mono',consolas,'Courier New',monospace\">┏━━━━━━━━━━━━━━━━━━━━━━━━━━━━━━━━━━━━━━┳━━━━━━━━━━━━━━━━━━━━━━━━━━━━━┳━━━━━━━━━━━━━━━━━┓\n",
              "┃<span style=\"font-weight: bold\"> Layer (type)                         </span>┃<span style=\"font-weight: bold\"> Output Shape                </span>┃<span style=\"font-weight: bold\">         Param # </span>┃\n",
              "┡━━━━━━━━━━━━━━━━━━━━━━━━━━━━━━━━━━━━━━╇━━━━━━━━━━━━━━━━━━━━━━━━━━━━━╇━━━━━━━━━━━━━━━━━┩\n",
              "│ sequential_6 (<span style=\"color: #0087ff; text-decoration-color: #0087ff\">Sequential</span>)            │ (<span style=\"color: #00d7ff; text-decoration-color: #00d7ff\">None</span>, <span style=\"color: #00af00; text-decoration-color: #00af00\">6</span>)                   │         <span style=\"color: #00af00; text-decoration-color: #00af00\">266,662</span> │\n",
              "├──────────────────────────────────────┼─────────────────────────────┼─────────────────┤\n",
              "│ sequential_7 (<span style=\"color: #0087ff; text-decoration-color: #0087ff\">Sequential</span>)            │ (<span style=\"color: #00d7ff; text-decoration-color: #00d7ff\">None</span>, <span style=\"color: #00af00; text-decoration-color: #00af00\">2000</span>)                │         <span style=\"color: #00af00; text-decoration-color: #00af00\">268,560</span> │\n",
              "└──────────────────────────────────────┴─────────────────────────────┴─────────────────┘\n",
              "</pre>\n"
            ]
          },
          "metadata": {}
        },
        {
          "output_type": "display_data",
          "data": {
            "text/plain": [
              "\u001b[1m Total params: \u001b[0m\u001b[38;5;34m535,222\u001b[0m (2.04 MB)\n"
            ],
            "text/html": [
              "<pre style=\"white-space:pre;overflow-x:auto;line-height:normal;font-family:Menlo,'DejaVu Sans Mono',consolas,'Courier New',monospace\"><span style=\"font-weight: bold\"> Total params: </span><span style=\"color: #00af00; text-decoration-color: #00af00\">535,222</span> (2.04 MB)\n",
              "</pre>\n"
            ]
          },
          "metadata": {}
        },
        {
          "output_type": "display_data",
          "data": {
            "text/plain": [
              "\u001b[1m Trainable params: \u001b[0m\u001b[38;5;34m535,222\u001b[0m (2.04 MB)\n"
            ],
            "text/html": [
              "<pre style=\"white-space:pre;overflow-x:auto;line-height:normal;font-family:Menlo,'DejaVu Sans Mono',consolas,'Courier New',monospace\"><span style=\"font-weight: bold\"> Trainable params: </span><span style=\"color: #00af00; text-decoration-color: #00af00\">535,222</span> (2.04 MB)\n",
              "</pre>\n"
            ]
          },
          "metadata": {}
        },
        {
          "output_type": "display_data",
          "data": {
            "text/plain": [
              "\u001b[1m Non-trainable params: \u001b[0m\u001b[38;5;34m0\u001b[0m (0.00 B)\n"
            ],
            "text/html": [
              "<pre style=\"white-space:pre;overflow-x:auto;line-height:normal;font-family:Menlo,'DejaVu Sans Mono',consolas,'Courier New',monospace\"><span style=\"font-weight: bold\"> Non-trainable params: </span><span style=\"color: #00af00; text-decoration-color: #00af00\">0</span> (0.00 B)\n",
              "</pre>\n"
            ]
          },
          "metadata": {}
        }
      ]
    },
    {
      "cell_type": "code",
      "source": [
        "vae.encoder.summary()"
      ],
      "metadata": {
        "colab": {
          "base_uri": "https://localhost:8080/",
          "height": 257
        },
        "id": "DwnUr6tWXDUH",
        "outputId": "55ed6e04-c4ea-4029-dcf9-445c147e752a"
      },
      "execution_count": null,
      "outputs": [
        {
          "output_type": "display_data",
          "data": {
            "text/plain": [
              "\u001b[1mModel: \"sequential_6\"\u001b[0m\n"
            ],
            "text/html": [
              "<pre style=\"white-space:pre;overflow-x:auto;line-height:normal;font-family:Menlo,'DejaVu Sans Mono',consolas,'Courier New',monospace\"><span style=\"font-weight: bold\">Model: \"sequential_6\"</span>\n",
              "</pre>\n"
            ]
          },
          "metadata": {}
        },
        {
          "output_type": "display_data",
          "data": {
            "text/plain": [
              "┏━━━━━━━━━━━━━━━━━━━━━━━━━━━━━━━━━━━━━━┳━━━━━━━━━━━━━━━━━━━━━━━━━━━━━┳━━━━━━━━━━━━━━━━━┓\n",
              "┃\u001b[1m \u001b[0m\u001b[1mLayer (type)                        \u001b[0m\u001b[1m \u001b[0m┃\u001b[1m \u001b[0m\u001b[1mOutput Shape               \u001b[0m\u001b[1m \u001b[0m┃\u001b[1m \u001b[0m\u001b[1m        Param #\u001b[0m\u001b[1m \u001b[0m┃\n",
              "┡━━━━━━━━━━━━━━━━━━━━━━━━━━━━━━━━━━━━━━╇━━━━━━━━━━━━━━━━━━━━━━━━━━━━━╇━━━━━━━━━━━━━━━━━┩\n",
              "│ dense_24 (\u001b[38;5;33mDense\u001b[0m)                     │ (\u001b[38;5;45mNone\u001b[0m, \u001b[38;5;34m128\u001b[0m)                 │         \u001b[38;5;34m256,128\u001b[0m │\n",
              "├──────────────────────────────────────┼─────────────────────────────┼─────────────────┤\n",
              "│ dense_25 (\u001b[38;5;33mDense\u001b[0m)                     │ (\u001b[38;5;45mNone\u001b[0m, \u001b[38;5;34m64\u001b[0m)                  │           \u001b[38;5;34m8,256\u001b[0m │\n",
              "├──────────────────────────────────────┼─────────────────────────────┼─────────────────┤\n",
              "│ dense_26 (\u001b[38;5;33mDense\u001b[0m)                     │ (\u001b[38;5;45mNone\u001b[0m, \u001b[38;5;34m32\u001b[0m)                  │           \u001b[38;5;34m2,080\u001b[0m │\n",
              "├──────────────────────────────────────┼─────────────────────────────┼─────────────────┤\n",
              "│ dense_27 (\u001b[38;5;33mDense\u001b[0m)                     │ (\u001b[38;5;45mNone\u001b[0m, \u001b[38;5;34m6\u001b[0m)                   │             \u001b[38;5;34m198\u001b[0m │\n",
              "└──────────────────────────────────────┴─────────────────────────────┴─────────────────┘\n"
            ],
            "text/html": [
              "<pre style=\"white-space:pre;overflow-x:auto;line-height:normal;font-family:Menlo,'DejaVu Sans Mono',consolas,'Courier New',monospace\">┏━━━━━━━━━━━━━━━━━━━━━━━━━━━━━━━━━━━━━━┳━━━━━━━━━━━━━━━━━━━━━━━━━━━━━┳━━━━━━━━━━━━━━━━━┓\n",
              "┃<span style=\"font-weight: bold\"> Layer (type)                         </span>┃<span style=\"font-weight: bold\"> Output Shape                </span>┃<span style=\"font-weight: bold\">         Param # </span>┃\n",
              "┡━━━━━━━━━━━━━━━━━━━━━━━━━━━━━━━━━━━━━━╇━━━━━━━━━━━━━━━━━━━━━━━━━━━━━╇━━━━━━━━━━━━━━━━━┩\n",
              "│ dense_24 (<span style=\"color: #0087ff; text-decoration-color: #0087ff\">Dense</span>)                     │ (<span style=\"color: #00d7ff; text-decoration-color: #00d7ff\">None</span>, <span style=\"color: #00af00; text-decoration-color: #00af00\">128</span>)                 │         <span style=\"color: #00af00; text-decoration-color: #00af00\">256,128</span> │\n",
              "├──────────────────────────────────────┼─────────────────────────────┼─────────────────┤\n",
              "│ dense_25 (<span style=\"color: #0087ff; text-decoration-color: #0087ff\">Dense</span>)                     │ (<span style=\"color: #00d7ff; text-decoration-color: #00d7ff\">None</span>, <span style=\"color: #00af00; text-decoration-color: #00af00\">64</span>)                  │           <span style=\"color: #00af00; text-decoration-color: #00af00\">8,256</span> │\n",
              "├──────────────────────────────────────┼─────────────────────────────┼─────────────────┤\n",
              "│ dense_26 (<span style=\"color: #0087ff; text-decoration-color: #0087ff\">Dense</span>)                     │ (<span style=\"color: #00d7ff; text-decoration-color: #00d7ff\">None</span>, <span style=\"color: #00af00; text-decoration-color: #00af00\">32</span>)                  │           <span style=\"color: #00af00; text-decoration-color: #00af00\">2,080</span> │\n",
              "├──────────────────────────────────────┼─────────────────────────────┼─────────────────┤\n",
              "│ dense_27 (<span style=\"color: #0087ff; text-decoration-color: #0087ff\">Dense</span>)                     │ (<span style=\"color: #00d7ff; text-decoration-color: #00d7ff\">None</span>, <span style=\"color: #00af00; text-decoration-color: #00af00\">6</span>)                   │             <span style=\"color: #00af00; text-decoration-color: #00af00\">198</span> │\n",
              "└──────────────────────────────────────┴─────────────────────────────┴─────────────────┘\n",
              "</pre>\n"
            ]
          },
          "metadata": {}
        },
        {
          "output_type": "display_data",
          "data": {
            "text/plain": [
              "\u001b[1m Total params: \u001b[0m\u001b[38;5;34m266,662\u001b[0m (1.02 MB)\n"
            ],
            "text/html": [
              "<pre style=\"white-space:pre;overflow-x:auto;line-height:normal;font-family:Menlo,'DejaVu Sans Mono',consolas,'Courier New',monospace\"><span style=\"font-weight: bold\"> Total params: </span><span style=\"color: #00af00; text-decoration-color: #00af00\">266,662</span> (1.02 MB)\n",
              "</pre>\n"
            ]
          },
          "metadata": {}
        },
        {
          "output_type": "display_data",
          "data": {
            "text/plain": [
              "\u001b[1m Trainable params: \u001b[0m\u001b[38;5;34m266,662\u001b[0m (1.02 MB)\n"
            ],
            "text/html": [
              "<pre style=\"white-space:pre;overflow-x:auto;line-height:normal;font-family:Menlo,'DejaVu Sans Mono',consolas,'Courier New',monospace\"><span style=\"font-weight: bold\"> Trainable params: </span><span style=\"color: #00af00; text-decoration-color: #00af00\">266,662</span> (1.02 MB)\n",
              "</pre>\n"
            ]
          },
          "metadata": {}
        },
        {
          "output_type": "display_data",
          "data": {
            "text/plain": [
              "\u001b[1m Non-trainable params: \u001b[0m\u001b[38;5;34m0\u001b[0m (0.00 B)\n"
            ],
            "text/html": [
              "<pre style=\"white-space:pre;overflow-x:auto;line-height:normal;font-family:Menlo,'DejaVu Sans Mono',consolas,'Courier New',monospace\"><span style=\"font-weight: bold\"> Non-trainable params: </span><span style=\"color: #00af00; text-decoration-color: #00af00\">0</span> (0.00 B)\n",
              "</pre>\n"
            ]
          },
          "metadata": {}
        }
      ]
    },
    {
      "cell_type": "code",
      "source": [
        "vae.encoder.summary()"
      ],
      "metadata": {
        "colab": {
          "base_uri": "https://localhost:8080/",
          "height": 257
        },
        "id": "ltAAR_CUXKp8",
        "outputId": "60b1b6de-4268-4a28-8a12-4cf47e8c36c5"
      },
      "execution_count": null,
      "outputs": [
        {
          "output_type": "display_data",
          "data": {
            "text/plain": [
              "\u001b[1mModel: \"sequential_6\"\u001b[0m\n"
            ],
            "text/html": [
              "<pre style=\"white-space:pre;overflow-x:auto;line-height:normal;font-family:Menlo,'DejaVu Sans Mono',consolas,'Courier New',monospace\"><span style=\"font-weight: bold\">Model: \"sequential_6\"</span>\n",
              "</pre>\n"
            ]
          },
          "metadata": {}
        },
        {
          "output_type": "display_data",
          "data": {
            "text/plain": [
              "┏━━━━━━━━━━━━━━━━━━━━━━━━━━━━━━━━━━━━━━┳━━━━━━━━━━━━━━━━━━━━━━━━━━━━━┳━━━━━━━━━━━━━━━━━┓\n",
              "┃\u001b[1m \u001b[0m\u001b[1mLayer (type)                        \u001b[0m\u001b[1m \u001b[0m┃\u001b[1m \u001b[0m\u001b[1mOutput Shape               \u001b[0m\u001b[1m \u001b[0m┃\u001b[1m \u001b[0m\u001b[1m        Param #\u001b[0m\u001b[1m \u001b[0m┃\n",
              "┡━━━━━━━━━━━━━━━━━━━━━━━━━━━━━━━━━━━━━━╇━━━━━━━━━━━━━━━━━━━━━━━━━━━━━╇━━━━━━━━━━━━━━━━━┩\n",
              "│ dense_24 (\u001b[38;5;33mDense\u001b[0m)                     │ (\u001b[38;5;45mNone\u001b[0m, \u001b[38;5;34m128\u001b[0m)                 │         \u001b[38;5;34m256,128\u001b[0m │\n",
              "├──────────────────────────────────────┼─────────────────────────────┼─────────────────┤\n",
              "│ dense_25 (\u001b[38;5;33mDense\u001b[0m)                     │ (\u001b[38;5;45mNone\u001b[0m, \u001b[38;5;34m64\u001b[0m)                  │           \u001b[38;5;34m8,256\u001b[0m │\n",
              "├──────────────────────────────────────┼─────────────────────────────┼─────────────────┤\n",
              "│ dense_26 (\u001b[38;5;33mDense\u001b[0m)                     │ (\u001b[38;5;45mNone\u001b[0m, \u001b[38;5;34m32\u001b[0m)                  │           \u001b[38;5;34m2,080\u001b[0m │\n",
              "├──────────────────────────────────────┼─────────────────────────────┼─────────────────┤\n",
              "│ dense_27 (\u001b[38;5;33mDense\u001b[0m)                     │ (\u001b[38;5;45mNone\u001b[0m, \u001b[38;5;34m6\u001b[0m)                   │             \u001b[38;5;34m198\u001b[0m │\n",
              "└──────────────────────────────────────┴─────────────────────────────┴─────────────────┘\n"
            ],
            "text/html": [
              "<pre style=\"white-space:pre;overflow-x:auto;line-height:normal;font-family:Menlo,'DejaVu Sans Mono',consolas,'Courier New',monospace\">┏━━━━━━━━━━━━━━━━━━━━━━━━━━━━━━━━━━━━━━┳━━━━━━━━━━━━━━━━━━━━━━━━━━━━━┳━━━━━━━━━━━━━━━━━┓\n",
              "┃<span style=\"font-weight: bold\"> Layer (type)                         </span>┃<span style=\"font-weight: bold\"> Output Shape                </span>┃<span style=\"font-weight: bold\">         Param # </span>┃\n",
              "┡━━━━━━━━━━━━━━━━━━━━━━━━━━━━━━━━━━━━━━╇━━━━━━━━━━━━━━━━━━━━━━━━━━━━━╇━━━━━━━━━━━━━━━━━┩\n",
              "│ dense_24 (<span style=\"color: #0087ff; text-decoration-color: #0087ff\">Dense</span>)                     │ (<span style=\"color: #00d7ff; text-decoration-color: #00d7ff\">None</span>, <span style=\"color: #00af00; text-decoration-color: #00af00\">128</span>)                 │         <span style=\"color: #00af00; text-decoration-color: #00af00\">256,128</span> │\n",
              "├──────────────────────────────────────┼─────────────────────────────┼─────────────────┤\n",
              "│ dense_25 (<span style=\"color: #0087ff; text-decoration-color: #0087ff\">Dense</span>)                     │ (<span style=\"color: #00d7ff; text-decoration-color: #00d7ff\">None</span>, <span style=\"color: #00af00; text-decoration-color: #00af00\">64</span>)                  │           <span style=\"color: #00af00; text-decoration-color: #00af00\">8,256</span> │\n",
              "├──────────────────────────────────────┼─────────────────────────────┼─────────────────┤\n",
              "│ dense_26 (<span style=\"color: #0087ff; text-decoration-color: #0087ff\">Dense</span>)                     │ (<span style=\"color: #00d7ff; text-decoration-color: #00d7ff\">None</span>, <span style=\"color: #00af00; text-decoration-color: #00af00\">32</span>)                  │           <span style=\"color: #00af00; text-decoration-color: #00af00\">2,080</span> │\n",
              "├──────────────────────────────────────┼─────────────────────────────┼─────────────────┤\n",
              "│ dense_27 (<span style=\"color: #0087ff; text-decoration-color: #0087ff\">Dense</span>)                     │ (<span style=\"color: #00d7ff; text-decoration-color: #00d7ff\">None</span>, <span style=\"color: #00af00; text-decoration-color: #00af00\">6</span>)                   │             <span style=\"color: #00af00; text-decoration-color: #00af00\">198</span> │\n",
              "└──────────────────────────────────────┴─────────────────────────────┴─────────────────┘\n",
              "</pre>\n"
            ]
          },
          "metadata": {}
        },
        {
          "output_type": "display_data",
          "data": {
            "text/plain": [
              "\u001b[1m Total params: \u001b[0m\u001b[38;5;34m266,662\u001b[0m (1.02 MB)\n"
            ],
            "text/html": [
              "<pre style=\"white-space:pre;overflow-x:auto;line-height:normal;font-family:Menlo,'DejaVu Sans Mono',consolas,'Courier New',monospace\"><span style=\"font-weight: bold\"> Total params: </span><span style=\"color: #00af00; text-decoration-color: #00af00\">266,662</span> (1.02 MB)\n",
              "</pre>\n"
            ]
          },
          "metadata": {}
        },
        {
          "output_type": "display_data",
          "data": {
            "text/plain": [
              "\u001b[1m Trainable params: \u001b[0m\u001b[38;5;34m266,662\u001b[0m (1.02 MB)\n"
            ],
            "text/html": [
              "<pre style=\"white-space:pre;overflow-x:auto;line-height:normal;font-family:Menlo,'DejaVu Sans Mono',consolas,'Courier New',monospace\"><span style=\"font-weight: bold\"> Trainable params: </span><span style=\"color: #00af00; text-decoration-color: #00af00\">266,662</span> (1.02 MB)\n",
              "</pre>\n"
            ]
          },
          "metadata": {}
        },
        {
          "output_type": "display_data",
          "data": {
            "text/plain": [
              "\u001b[1m Non-trainable params: \u001b[0m\u001b[38;5;34m0\u001b[0m (0.00 B)\n"
            ],
            "text/html": [
              "<pre style=\"white-space:pre;overflow-x:auto;line-height:normal;font-family:Menlo,'DejaVu Sans Mono',consolas,'Courier New',monospace\"><span style=\"font-weight: bold\"> Non-trainable params: </span><span style=\"color: #00af00; text-decoration-color: #00af00\">0</span> (0.00 B)\n",
              "</pre>\n"
            ]
          },
          "metadata": {}
        }
      ]
    },
    {
      "cell_type": "markdown",
      "source": [
        "# Reconstruct Data"
      ],
      "metadata": {
        "id": "kc7CzBBwZsRo"
      }
    },
    {
      "cell_type": "code",
      "source": [
        "def make_predictions(vae, new_data):\n",
        "    \"\"\"\n",
        "    Use the trained VAE to make predictions (reconstructions) on new input data.\n",
        "\n",
        "    Parameters:\n",
        "    - vae: The trained VAE model\n",
        "    - new_data: New input data (normalized) for which to generate predictions.\n",
        "\n",
        "    Returns:\n",
        "    - reconstructed_data: Reconstructed data from the decoder.\n",
        "    - latent_space: The latent representations (z_mean) from the encoder.\n",
        "    \"\"\"\n",
        "    # Step 1: Encode the new data to get latent representation (z_mean)\n",
        "    z_mean_logvar = vae.encoder.predict(new_data)\n",
        "    z_mean, _ = np.split(z_mean_logvar, 2, axis=1)  # Split z_mean and z_logvar\n",
        "\n",
        "    # Step 2: Decode the latent representation back to reconstruct the input data\n",
        "    reconstructed_data = vae.decoder.predict(z_mean)\n",
        "\n",
        "    return reconstructed_data, z_mean\n",
        "\n"
      ],
      "metadata": {
        "id": "6dgv4z31YGNU"
      },
      "execution_count": null,
      "outputs": []
    },
    {
      "cell_type": "code",
      "source": [
        "# Example usage:\n",
        "# Assuming `vae` is the trained VAE model and `new_data_scaled` is the new input data\n",
        "reconstructed_data, latent_space = make_predictions(vae, prepedData)\n"
      ],
      "metadata": {
        "colab": {
          "base_uri": "https://localhost:8080/"
        },
        "id": "xL5Qlh0LYkpc",
        "outputId": "5cff0122-fcdf-4710-c94d-09211d4d8ec2"
      },
      "execution_count": null,
      "outputs": [
        {
          "output_type": "stream",
          "name": "stdout",
          "text": [
            "\u001b[1m7/7\u001b[0m \u001b[32m━━━━━━━━━━━━━━━━━━━━\u001b[0m\u001b[37m\u001b[0m \u001b[1m0s\u001b[0m 15ms/step\n",
            "\u001b[1m7/7\u001b[0m \u001b[32m━━━━━━━━━━━━━━━━━━━━\u001b[0m\u001b[37m\u001b[0m \u001b[1m0s\u001b[0m 62ms/step\n"
          ]
        }
      ]
    },
    {
      "cell_type": "code",
      "source": [
        "first_column_reconstructed = reconstructed_data[:, 1]\n",
        "first_column_prepedData = prepedData[:, 1]"
      ],
      "metadata": {
        "id": "Zii7Oo8RZASC"
      },
      "execution_count": null,
      "outputs": []
    },
    {
      "cell_type": "code",
      "source": [
        "sns.scatterplot(x=first_column_prepedData, y=first_column_reconstructed, hue=treatmentStatus)\n",
        "plt.grid(True)\n",
        "plt.show()"
      ],
      "metadata": {
        "colab": {
          "base_uri": "https://localhost:8080/",
          "height": 430
        },
        "id": "UOSmM52uZ8cJ",
        "outputId": "b64219c9-19fe-4506-c21e-4166b9f6668d"
      },
      "execution_count": null,
      "outputs": [
        {
          "output_type": "display_data",
          "data": {
            "text/plain": [
              "<Figure size 640x480 with 1 Axes>"
            ],
            "image/png": "[encoded data removed]"
          },
          "metadata": {}
        }
      ]
    },
    {
      "cell_type": "code",
      "source": [
        "\n",
        "\n",
        "def visualize_latent_space(vae, data, treatment_status, use_tsne=True):\n",
        "    \"\"\"\n",
        "    Visualize the latent space of a trained VAE using t-SNE or PCA.\n",
        "\n",
        "    Parameters:\n",
        "    - vae: The trained VAE model\n",
        "    - data: Normalized data (gene expression + methylation) used to train the VAE\n",
        "    - treatment_status: Binary treatment status (0 for untreated, 1 for treated)\n",
        "    - use_tsne: If True, use t-SNE; otherwise, use PCA for dimensionality reduction\n",
        "\n",
        "    Returns:\n",
        "    - A scatter plot of the latent space with color coding for treated vs untreated\n",
        "    \"\"\"\n",
        "\n",
        "    # Step 1: Encode the data to get the latent mean (z_mean)\n",
        "    z_mean_logvar = vae.encoder.predict(data)\n",
        "    z_mean, _ = np.split(z_mean_logvar, 2, axis=1)  # Use z_mean, ignore logvar\n",
        "\n",
        "    # Step 2: Reduce the dimensions using t-SNE or PCA\n",
        "    if use_tsne:\n",
        "        print(\"Applying t-SNE for dimensionality reduction...\")\n",
        "        latent_2d = TSNE(n_components=2, random_state=42).fit_transform(z_mean)\n",
        "    else:\n",
        "        print(\"Applying PCA for dimensionality reduction...\")\n",
        "        latent_2d = PCA(n_components=2).fit_transform(z_mean)\n",
        "\n",
        "    # Step 3: Create a scatter plot of the 2D latent space\n",
        "    plt.figure(figsize=(8, 6))\n",
        "    plt.scatter(latent_2d[treatment_status == 0, 0], latent_2d[treatment_status == 0, 1],\n",
        "                c='blue', label='Untreated', alpha=0.7)\n",
        "    plt.scatter(latent_2d[treatment_status == 1, 0], latent_2d[treatment_status == 1, 1],\n",
        "                c='red', label='Treated', alpha=0.7)\n",
        "\n",
        "    plt.title('Latent Space Visualization')\n",
        "    plt.xlabel('Latent Dimension 1')\n",
        "    plt.ylabel('Latent Dimension 2')\n",
        "    plt.legend()\n",
        "    #plt.grid(True)\n",
        "    plt.show()\n",
        "\n"
      ],
      "metadata": {
        "id": "W_ZYKFOPamgd"
      },
      "execution_count": null,
      "outputs": []
    },
    {
      "cell_type": "code",
      "source": [
        "# Example usage:\n",
        "# Assuming `vae` is the trained VAE model and `features_scaled` contains normalized data\n",
        "# `treatment_status` is a binary array where 0 = untreated, 1 = treated\n",
        "visualize_latent_space(vae, prepedData, treatmentStatus, use_tsne=True)\n"
      ],
      "metadata": {
        "colab": {
          "base_uri": "https://localhost:8080/",
          "height": 598
        },
        "id": "RmE8g8_pcMaR",
        "outputId": "a20bd132-f576-4ff8-9e55-5f62877de561"
      },
      "execution_count": null,
      "outputs": [
        {
          "output_type": "stream",
          "name": "stdout",
          "text": [
            "\u001b[1m7/7\u001b[0m \u001b[32m━━━━━━━━━━━━━━━━━━━━\u001b[0m\u001b[37m\u001b[0m \u001b[1m0s\u001b[0m 5ms/step \n",
            "Applying t-SNE for dimensionality reduction...\n"
          ]
        },
        {
          "output_type": "display_data",
          "data": {
            "text/plain": [
              "<Figure size 800x600 with 1 Axes>"
            ],
            "image/png": "[encoded data removed]"
          },
          "metadata": {}
        }
      ]
    },
    {
      "cell_type": "code",
      "source": [],
      "metadata": {
        "id": "OchyTr5gcPp_"
      },
      "execution_count": null,
      "outputs": []
    }
  ]
}
